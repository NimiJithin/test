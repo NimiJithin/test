{
 "cells": [
  {
   "cell_type": "code",
   "execution_count": 249,
   "metadata": {},
   "outputs": [],
   "source": [
    "import numpy as np\n",
    "import matplotlib.pyplot as plt\n",
    "import pandas as pd \n",
    "import matplotlib.path as mpath\n",
    "import pandasql as sql\n",
    "import collections\n",
    "from datetime import datetime"
   ]
  },
  {
   "cell_type": "code",
   "execution_count": 250,
   "metadata": {},
   "outputs": [],
   "source": [
    "ms1 = pd.read_excel(\"C:/Users/NImi Jithin/Desktop/data/measurements/mss1.xlsx\")"
   ]
  },
  {
   "cell_type": "code",
   "execution_count": 251,
   "metadata": {},
   "outputs": [
    {
     "data": {
      "text/plain": [
       "30"
      ]
     },
     "execution_count": 251,
     "metadata": {},
     "output_type": "execute_result"
    }
   ],
   "source": [
    "len(ms1)"
   ]
  },
  {
   "cell_type": "code",
   "execution_count": 252,
   "metadata": {},
   "outputs": [
    {
     "data": {
      "text/html": [
       "<div>\n",
       "<style scoped>\n",
       "    .dataframe tbody tr th:only-of-type {\n",
       "        vertical-align: middle;\n",
       "    }\n",
       "\n",
       "    .dataframe tbody tr th {\n",
       "        vertical-align: top;\n",
       "    }\n",
       "\n",
       "    .dataframe thead th {\n",
       "        text-align: right;\n",
       "    }\n",
       "</style>\n",
       "<table border=\"1\" class=\"dataframe\">\n",
       "  <thead>\n",
       "    <tr style=\"text-align: right;\">\n",
       "      <th></th>\n",
       "      <th>time</th>\n",
       "      <th>lat</th>\n",
       "      <th>long</th>\n",
       "      <th>dir</th>\n",
       "      <th>velocity</th>\n",
       "      <th>T_outside</th>\n",
       "      <th>brightnessFW</th>\n",
       "      <th>brightnessIR</th>\n",
       "      <th>PredictedSeg</th>\n",
       "    </tr>\n",
       "  </thead>\n",
       "  <tbody>\n",
       "    <tr>\n",
       "      <th>25</th>\n",
       "      <td>Wednesday, November 1, 2017 16:18:20:33508642</td>\n",
       "      <td>51.900836</td>\n",
       "      <td>10.433882</td>\n",
       "      <td>76.0</td>\n",
       "      <td>22.484497</td>\n",
       "      <td>12.5</td>\n",
       "      <td>2409.322020</td>\n",
       "      <td>3200.0</td>\n",
       "      <td>6606</td>\n",
       "    </tr>\n",
       "    <tr>\n",
       "      <th>26</th>\n",
       "      <td>Wednesday, November 1, 2017 16:18:20:83509375</td>\n",
       "      <td>51.900878</td>\n",
       "      <td>10.433938</td>\n",
       "      <td>37.9</td>\n",
       "      <td>24.274476</td>\n",
       "      <td>12.5</td>\n",
       "      <td>2044.664794</td>\n",
       "      <td>3200.0</td>\n",
       "      <td>6599</td>\n",
       "    </tr>\n",
       "    <tr>\n",
       "      <th>27</th>\n",
       "      <td>Wednesday, November 1, 2017 16:18:21:33509106</td>\n",
       "      <td>51.900878</td>\n",
       "      <td>10.433938</td>\n",
       "      <td>37.9</td>\n",
       "      <td>25.588986</td>\n",
       "      <td>12.5</td>\n",
       "      <td>1924.232564</td>\n",
       "      <td>3200.0</td>\n",
       "      <td>6599</td>\n",
       "    </tr>\n",
       "    <tr>\n",
       "      <th>28</th>\n",
       "      <td>Wednesday, November 1, 2017 16:18:21:83508837</td>\n",
       "      <td>51.900936</td>\n",
       "      <td>10.433984</td>\n",
       "      <td>22.5</td>\n",
       "      <td>26.777883</td>\n",
       "      <td>12.5</td>\n",
       "      <td>1825.337478</td>\n",
       "      <td>3200.0</td>\n",
       "      <td>6599</td>\n",
       "    </tr>\n",
       "    <tr>\n",
       "      <th>29</th>\n",
       "      <td>Wednesday, November 1, 2017 16:18:22:33508569</td>\n",
       "      <td>51.900936</td>\n",
       "      <td>10.433984</td>\n",
       "      <td>22.5</td>\n",
       "      <td>27.690948</td>\n",
       "      <td>12.5</td>\n",
       "      <td>1766.773226</td>\n",
       "      <td>3200.0</td>\n",
       "      <td>6599</td>\n",
       "    </tr>\n",
       "  </tbody>\n",
       "</table>\n",
       "</div>"
      ],
      "text/plain": [
       "                                             time        lat       long   dir  \\\n",
       "25  Wednesday, November 1, 2017 16:18:20:33508642  51.900836  10.433882  76.0   \n",
       "26  Wednesday, November 1, 2017 16:18:20:83509375  51.900878  10.433938  37.9   \n",
       "27  Wednesday, November 1, 2017 16:18:21:33509106  51.900878  10.433938  37.9   \n",
       "28  Wednesday, November 1, 2017 16:18:21:83508837  51.900936  10.433984  22.5   \n",
       "29  Wednesday, November 1, 2017 16:18:22:33508569  51.900936  10.433984  22.5   \n",
       "\n",
       "     velocity  T_outside  brightnessFW  brightnessIR  PredictedSeg  \n",
       "25  22.484497       12.5   2409.322020        3200.0          6606  \n",
       "26  24.274476       12.5   2044.664794        3200.0          6599  \n",
       "27  25.588986       12.5   1924.232564        3200.0          6599  \n",
       "28  26.777883       12.5   1825.337478        3200.0          6599  \n",
       "29  27.690948       12.5   1766.773226        3200.0          6599  "
      ]
     },
     "execution_count": 252,
     "metadata": {},
     "output_type": "execute_result"
    }
   ],
   "source": [
    "ms1.tail()"
   ]
  },
  {
   "cell_type": "code",
   "execution_count": 253,
   "metadata": {},
   "outputs": [],
   "source": [
    "ms1['id'] = ms1.index"
   ]
  },
  {
   "cell_type": "code",
   "execution_count": 254,
   "metadata": {},
   "outputs": [],
   "source": [
    "q1 = \"\"\"SELECT PredictedSeg,COUNT(*) as count FROM ms1 GROUP BY PredictedSeg ORDER BY PredictedSeg \"\"\"\n",
    "test = sql.sqldf(q1, locals())"
   ]
  },
  {
   "cell_type": "code",
   "execution_count": 255,
   "metadata": {
    "scrolled": true
   },
   "outputs": [
    {
     "name": "stdout",
     "output_type": "stream",
     "text": [
      "time             object\n",
      "lat             float64\n",
      "long            float64\n",
      "dir             float64\n",
      "velocity        float64\n",
      "T_outside       float64\n",
      "brightnessFW    float64\n",
      "brightnessIR    float64\n",
      "PredictedSeg      int64\n",
      "id                int64\n",
      "dtype: object\n"
     ]
    }
   ],
   "source": [
    "print(ms1.dtypes) # dataype"
   ]
  },
  {
   "cell_type": "code",
   "execution_count": 256,
   "metadata": {},
   "outputs": [],
   "source": [
    "tot_len = len(ms1.iloc[0]['time']) # TODO : need to generalise"
   ]
  },
  {
   "cell_type": "code",
   "execution_count": 257,
   "metadata": {},
   "outputs": [],
   "source": [
    "start, stop, step = 0, tot_len-2, 1\n",
    "ms1['time'] = ms1[\"time\"].str.slice(start, stop, step) "
   ]
  },
  {
   "cell_type": "code",
   "execution_count": 258,
   "metadata": {},
   "outputs": [],
   "source": [
    "ms1['time'] = ms1['time'].apply(lambda x: datetime.strptime(x, '%A, %B %d, %Y %H:%M:%S:%f'))"
   ]
  },
  {
   "cell_type": "code",
   "execution_count": 259,
   "metadata": {},
   "outputs": [
    {
     "name": "stdout",
     "output_type": "stream",
     "text": [
      "0.500007\n"
     ]
    }
   ],
   "source": [
    "######################################################## TODO : Need to automate this\n",
    "#ms1['Day'] = 'Wednesday'\n",
    "#ms1['Month'] = 'November'\n",
    "the_date1 = ms1.iloc[1]['time']\n",
    "the_date2 = ms1.iloc[2]['time']\n",
    "diff = the_date2 - the_date1\n",
    "print(diff.total_seconds())"
   ]
  },
  {
   "cell_type": "code",
   "execution_count": 260,
   "metadata": {},
   "outputs": [],
   "source": [
    "def aggregate_calc_vel(aggregate_velocity, end_pred_seg_index, ms1):\n",
    "    \n",
    "    aggregate_velocity = aggregate_velocity + (ms1.iloc[end_pred_seg_index-1]['velocity'] * \n",
    "                                                   ((ms1.iloc[end_pred_seg_index]['time']-\n",
    "                                                     ms1.iloc[end_pred_seg_index-1]['time']).total_seconds()/3600))\n",
    "    return aggregate_velocity"
   ]
  },
  {
   "cell_type": "code",
   "execution_count": 261,
   "metadata": {},
   "outputs": [],
   "source": [
    "def aggregate_calc_temp(aggregate_temp, end_pred_seg_index, ms1):\n",
    "    \n",
    "    aggregate_temp = aggregate_temp + (ms1.iloc[end_pred_seg_index-1]['T_outside'] * \n",
    "                                                   ((ms1.iloc[end_pred_seg_index]['time']-\n",
    "                                                     ms1.iloc[end_pred_seg_index-1]['time']).total_seconds()/3600))\n",
    "    return aggregate_temp"
   ]
  },
  {
   "cell_type": "code",
   "execution_count": 262,
   "metadata": {},
   "outputs": [],
   "source": [
    "def duration_calc(end, start):\n",
    "    duration = end - start\n",
    "    return duration"
   ]
  },
  {
   "cell_type": "code",
   "execution_count": 263,
   "metadata": {},
   "outputs": [],
   "source": [
    "def setAggregate(aggregate_velocity, aggregate_temp, \n",
    "                 df, end_pred_seg_index, ms1, end, start,predicted_seg,mesured_order):\n",
    "    \n",
    "    aggregate_velocity = aggregate_calc_vel(aggregate_velocity, end_pred_seg_index, ms1)\n",
    "    aggregate_temp = aggregate_calc_temp(aggregate_temp, end_pred_seg_index, ms1)\n",
    "    duration = duration_calc(end, start)\n",
    "    duration_in_hrs = duration.total_seconds()/3600\n",
    "    df = df.append({'measured_order': mesured_order,\n",
    "                        'Start_Time': start, \n",
    "                        'End_Time': end,\n",
    "                        'Duration': duration, \n",
    "                        'Duration_in_hours': duration_in_hrs,\n",
    "                        'Agg_Velocity': aggregate_velocity/duration_in_hrs,\n",
    "                        'Agg_Temp': aggregate_temp/duration_in_hrs,\n",
    "                        'Predicted_Seg': predicted_seg }, ignore_index=True)\n"
   ]
  },
  {
   "cell_type": "code",
   "execution_count": 264,
   "metadata": {},
   "outputs": [],
   "source": [
    "first_of_each_unique_pred_seg_index = 0\n",
    "\n",
    "mesured_order = 0;\n",
    "\n",
    "df = pd.DataFrame({'Start_Time': [], 'Duration': [], 'Duration': [], 'Predicted_Seg': []})\n",
    "\n",
    "while(first_of_each_unique_pred_seg_index < len(ms1)):\n",
    "    \n",
    "    predicted_seg = ms1.iloc[first_of_each_unique_pred_seg_index]['PredictedSeg']\n",
    "    aggregate_velocity = 0\n",
    "    aggregate_temp = 0\n",
    "    start_pred_seg_idex = first_of_each_unique_pred_seg_index\n",
    "    next_index = first_of_each_unique_pred_seg_index + 1\n",
    "    \n",
    "    for next_pred_seg_index in range(next_index, len(ms1)):\n",
    "        \n",
    "        if ms1.iloc[next_pred_seg_index]['PredictedSeg'] != predicted_seg: \n",
    "            first_of_each_unique_pred_seg_index = next_pred_seg_index\n",
    "            end_pred_seg_index = next_pred_seg_index\n",
    "            \n",
    "                    \n",
    "        else:\n",
    "            \n",
    "            time_diff = ms1.iloc[next_pred_seg_index]['time'] - ms1.iloc[next_pred_seg_index-1]['time']\n",
    "            aggregate_velocity = aggregate_velocity + (ms1.iloc[next_pred_seg_index-1]['velocity'] \n",
    "                                                       * (time_diff.total_seconds()/3600))\n",
    "            aggregate_temp = aggregate_temp + (ms1.iloc[next_pred_seg_index-1]['T_outside'] \n",
    "                                                       * (time_diff.total_seconds()/3600))\n",
    "            continue\n",
    "        \n",
    "        \n",
    "        aggregate_velocity = aggregate_calc_vel(aggregate_velocity, end_pred_seg_index, ms1)\n",
    "        aggregate_temp = aggregate_calc_temp(aggregate_temp, end_pred_seg_index, ms1)\n",
    "\n",
    "        duration = duration_calc(ms1.iloc[end_pred_seg_index]['time'],ms1.iloc[start_pred_seg_idex]['time']) \n",
    "        duration_in_hrs = duration.total_seconds()/3600\n",
    "    \n",
    "        df = df.append({'measured_order': mesured_order,\n",
    "                        'Start_Time': ms1.iloc[start_pred_seg_idex]['time'], \n",
    "                        'End_Time': ms1.iloc[end_pred_seg_index]['time'],\n",
    "                        'Duration': duration, \n",
    "                        'Duration_in_hours': duration_in_hrs,\n",
    "                        'Agg_Velocity': aggregate_velocity/duration_in_hrs,\n",
    "                        'Agg_Temp': aggregate_temp/duration_in_hrs,\n",
    "                        'Predicted_Seg': predicted_seg }, ignore_index=True)\n",
    "        \n",
    "        mesured_order = mesured_order + 1\n",
    "        break \n",
    "        \n",
    "    if next_pred_seg_index == len(ms1)-1:\n",
    "        \n",
    "        duration = duration_calc(ms1.iloc[next_pred_seg_index]['time'],ms1.iloc[start_pred_seg_idex]['time']) \n",
    "        duration_in_hrs = duration.total_seconds()/3600\n",
    "    \n",
    "        df = df.append({'measured_order': mesured_order,\n",
    "                        'Start_Time': ms1.iloc[start_pred_seg_idex]['time'], \n",
    "                        'End_Time': ms1.iloc[next_pred_seg_index]['time'],\n",
    "                        'Duration': duration, \n",
    "                        'Duration_in_hours': duration_in_hrs,\n",
    "                        'Agg_Velocity': aggregate_velocity/duration_in_hrs,\n",
    "                        'Agg_Temp': aggregate_temp/duration_in_hrs,\n",
    "                        'Predicted_Seg': predicted_seg }, ignore_index=True)\n",
    "     \n",
    "        break\n",
    "    \n",
    "        \n"
   ]
  },
  {
   "cell_type": "code",
   "execution_count": 265,
   "metadata": {},
   "outputs": [
    {
     "data": {
      "text/html": [
       "<div>\n",
       "<style scoped>\n",
       "    .dataframe tbody tr th:only-of-type {\n",
       "        vertical-align: middle;\n",
       "    }\n",
       "\n",
       "    .dataframe tbody tr th {\n",
       "        vertical-align: top;\n",
       "    }\n",
       "\n",
       "    .dataframe thead th {\n",
       "        text-align: right;\n",
       "    }\n",
       "</style>\n",
       "<table border=\"1\" class=\"dataframe\">\n",
       "  <thead>\n",
       "    <tr style=\"text-align: right;\">\n",
       "      <th></th>\n",
       "      <th>Start_Time</th>\n",
       "      <th>Duration</th>\n",
       "      <th>Predicted_Seg</th>\n",
       "      <th>Agg_Temp</th>\n",
       "      <th>Agg_Velocity</th>\n",
       "      <th>Duration_in_hours</th>\n",
       "      <th>End_Time</th>\n",
       "      <th>measured_order</th>\n",
       "    </tr>\n",
       "  </thead>\n",
       "  <tbody>\n",
       "    <tr>\n",
       "      <th>0</th>\n",
       "      <td>2017-11-01 16:18:07.835093</td>\n",
       "      <td>00:00:01.999990</td>\n",
       "      <td>6471.0</td>\n",
       "      <td>12.5</td>\n",
       "      <td>30.781525</td>\n",
       "      <td>0.000556</td>\n",
       "      <td>2017-11-01 16:18:09.835083</td>\n",
       "      <td>0.0</td>\n",
       "    </tr>\n",
       "    <tr>\n",
       "      <th>1</th>\n",
       "      <td>2017-11-01 16:18:09.835083</td>\n",
       "      <td>00:00:03.000003</td>\n",
       "      <td>6542.0</td>\n",
       "      <td>12.5</td>\n",
       "      <td>30.084722</td>\n",
       "      <td>0.000833</td>\n",
       "      <td>2017-11-01 16:18:12.835086</td>\n",
       "      <td>1.0</td>\n",
       "    </tr>\n",
       "    <tr>\n",
       "      <th>2</th>\n",
       "      <td>2017-11-01 16:18:12.835086</td>\n",
       "      <td>00:00:03.999999</td>\n",
       "      <td>6555.0</td>\n",
       "      <td>12.5</td>\n",
       "      <td>20.121479</td>\n",
       "      <td>0.001111</td>\n",
       "      <td>2017-11-01 16:18:16.835085</td>\n",
       "      <td>2.0</td>\n",
       "    </tr>\n",
       "    <tr>\n",
       "      <th>3</th>\n",
       "      <td>2017-11-01 16:18:16.835085</td>\n",
       "      <td>00:00:04.000008</td>\n",
       "      <td>6606.0</td>\n",
       "      <td>12.5</td>\n",
       "      <td>17.129543</td>\n",
       "      <td>0.001111</td>\n",
       "      <td>2017-11-01 16:18:20.835093</td>\n",
       "      <td>3.0</td>\n",
       "    </tr>\n",
       "    <tr>\n",
       "      <th>4</th>\n",
       "      <td>2017-11-01 16:18:20.835093</td>\n",
       "      <td>00:00:01.499992</td>\n",
       "      <td>6599.0</td>\n",
       "      <td>12.5</td>\n",
       "      <td>25.547114</td>\n",
       "      <td>0.000417</td>\n",
       "      <td>2017-11-01 16:18:22.335085</td>\n",
       "      <td>4.0</td>\n",
       "    </tr>\n",
       "  </tbody>\n",
       "</table>\n",
       "</div>"
      ],
      "text/plain": [
       "                  Start_Time        Duration  Predicted_Seg  Agg_Temp  \\\n",
       "0 2017-11-01 16:18:07.835093 00:00:01.999990         6471.0      12.5   \n",
       "1 2017-11-01 16:18:09.835083 00:00:03.000003         6542.0      12.5   \n",
       "2 2017-11-01 16:18:12.835086 00:00:03.999999         6555.0      12.5   \n",
       "3 2017-11-01 16:18:16.835085 00:00:04.000008         6606.0      12.5   \n",
       "4 2017-11-01 16:18:20.835093 00:00:01.499992         6599.0      12.5   \n",
       "\n",
       "   Agg_Velocity  Duration_in_hours                   End_Time  measured_order  \n",
       "0     30.781525           0.000556 2017-11-01 16:18:09.835083             0.0  \n",
       "1     30.084722           0.000833 2017-11-01 16:18:12.835086             1.0  \n",
       "2     20.121479           0.001111 2017-11-01 16:18:16.835085             2.0  \n",
       "3     17.129543           0.001111 2017-11-01 16:18:20.835093             3.0  \n",
       "4     25.547114           0.000417 2017-11-01 16:18:22.335085             4.0  "
      ]
     },
     "execution_count": 265,
     "metadata": {},
     "output_type": "execute_result"
    }
   ],
   "source": [
    "df"
   ]
  },
  {
   "cell_type": "code",
   "execution_count": null,
   "metadata": {},
   "outputs": [],
   "source": []
  }
 ],
 "metadata": {
  "kernelspec": {
   "display_name": "Python 3",
   "language": "python",
   "name": "python3"
  },
  "language_info": {
   "codemirror_mode": {
    "name": "ipython",
    "version": 3
   },
   "file_extension": ".py",
   "mimetype": "text/x-python",
   "name": "python",
   "nbconvert_exporter": "python",
   "pygments_lexer": "ipython3",
   "version": "3.7.3"
  }
 },
 "nbformat": 4,
 "nbformat_minor": 2
}
