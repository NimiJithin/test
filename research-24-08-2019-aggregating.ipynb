{
 "cells": [
  {
   "cell_type": "code",
   "execution_count": 163,
   "metadata": {},
   "outputs": [],
   "source": [
    "import numpy as np\n",
    "import matplotlib.pyplot as plt\n",
    "import pandas as pd \n",
    "import matplotlib.path as mpath\n",
    "import pandasql as sql\n",
    "import collections\n",
    "from datetime import datetime"
   ]
  },
  {
   "cell_type": "code",
   "execution_count": 164,
   "metadata": {},
   "outputs": [],
   "source": [
    "ms1 = pd.read_excel(\"C:/Users/NImi Jithin/Desktop/data/measurements/ms1.xlsx\")"
   ]
  },
  {
   "cell_type": "code",
   "execution_count": 165,
   "metadata": {},
   "outputs": [
    {
     "data": {
      "text/plain": [
       "5771"
      ]
     },
     "execution_count": 165,
     "metadata": {},
     "output_type": "execute_result"
    }
   ],
   "source": [
    "len(ms1)"
   ]
  },
  {
   "cell_type": "code",
   "execution_count": 166,
   "metadata": {},
   "outputs": [
    {
     "data": {
      "text/html": [
       "<div>\n",
       "<style scoped>\n",
       "    .dataframe tbody tr th:only-of-type {\n",
       "        vertical-align: middle;\n",
       "    }\n",
       "\n",
       "    .dataframe tbody tr th {\n",
       "        vertical-align: top;\n",
       "    }\n",
       "\n",
       "    .dataframe thead th {\n",
       "        text-align: right;\n",
       "    }\n",
       "</style>\n",
       "<table border=\"1\" class=\"dataframe\">\n",
       "  <thead>\n",
       "    <tr style=\"text-align: right;\">\n",
       "      <th></th>\n",
       "      <th>time</th>\n",
       "      <th>lat</th>\n",
       "      <th>long</th>\n",
       "      <th>dir</th>\n",
       "      <th>velocity</th>\n",
       "      <th>T_outside</th>\n",
       "      <th>brightnessFW</th>\n",
       "      <th>brightnessIR</th>\n",
       "      <th>PredictedSeg</th>\n",
       "    </tr>\n",
       "  </thead>\n",
       "  <tbody>\n",
       "    <tr>\n",
       "      <th>0</th>\n",
       "      <td>Wednesday, November 1, 2017 16:17:31:83508813</td>\n",
       "      <td>51.900768</td>\n",
       "      <td>10.43236</td>\n",
       "      <td>0.0</td>\n",
       "      <td>0.0</td>\n",
       "      <td>12.5</td>\n",
       "      <td>827.398613</td>\n",
       "      <td>2000.0</td>\n",
       "      <td>6471</td>\n",
       "    </tr>\n",
       "    <tr>\n",
       "      <th>1</th>\n",
       "      <td>Wednesday, November 1, 2017 16:17:32:33509545</td>\n",
       "      <td>51.900768</td>\n",
       "      <td>10.43236</td>\n",
       "      <td>0.0</td>\n",
       "      <td>0.0</td>\n",
       "      <td>12.5</td>\n",
       "      <td>827.398613</td>\n",
       "      <td>2000.0</td>\n",
       "      <td>6471</td>\n",
       "    </tr>\n",
       "    <tr>\n",
       "      <th>2</th>\n",
       "      <td>Wednesday, November 1, 2017 16:17:32:83509277</td>\n",
       "      <td>51.900768</td>\n",
       "      <td>10.43236</td>\n",
       "      <td>0.0</td>\n",
       "      <td>0.0</td>\n",
       "      <td>12.5</td>\n",
       "      <td>828.000000</td>\n",
       "      <td>2000.0</td>\n",
       "      <td>6471</td>\n",
       "    </tr>\n",
       "    <tr>\n",
       "      <th>3</th>\n",
       "      <td>Wednesday, November 1, 2017 16:17:33:33509008</td>\n",
       "      <td>51.900768</td>\n",
       "      <td>10.43236</td>\n",
       "      <td>0.0</td>\n",
       "      <td>0.0</td>\n",
       "      <td>12.5</td>\n",
       "      <td>827.395594</td>\n",
       "      <td>2000.0</td>\n",
       "      <td>6471</td>\n",
       "    </tr>\n",
       "    <tr>\n",
       "      <th>4</th>\n",
       "      <td>Wednesday, November 1, 2017 16:17:33:83508715</td>\n",
       "      <td>51.900768</td>\n",
       "      <td>10.43236</td>\n",
       "      <td>0.0</td>\n",
       "      <td>0.0</td>\n",
       "      <td>12.5</td>\n",
       "      <td>824.368410</td>\n",
       "      <td>2000.0</td>\n",
       "      <td>6471</td>\n",
       "    </tr>\n",
       "  </tbody>\n",
       "</table>\n",
       "</div>"
      ],
      "text/plain": [
       "                                            time        lat      long  dir  \\\n",
       "0  Wednesday, November 1, 2017 16:17:31:83508813  51.900768  10.43236  0.0   \n",
       "1  Wednesday, November 1, 2017 16:17:32:33509545  51.900768  10.43236  0.0   \n",
       "2  Wednesday, November 1, 2017 16:17:32:83509277  51.900768  10.43236  0.0   \n",
       "3  Wednesday, November 1, 2017 16:17:33:33509008  51.900768  10.43236  0.0   \n",
       "4  Wednesday, November 1, 2017 16:17:33:83508715  51.900768  10.43236  0.0   \n",
       "\n",
       "   velocity  T_outside  brightnessFW  brightnessIR  PredictedSeg  \n",
       "0       0.0       12.5    827.398613        2000.0          6471  \n",
       "1       0.0       12.5    827.398613        2000.0          6471  \n",
       "2       0.0       12.5    828.000000        2000.0          6471  \n",
       "3       0.0       12.5    827.395594        2000.0          6471  \n",
       "4       0.0       12.5    824.368410        2000.0          6471  "
      ]
     },
     "execution_count": 166,
     "metadata": {},
     "output_type": "execute_result"
    }
   ],
   "source": [
    "ms1.head(5)"
   ]
  },
  {
   "cell_type": "code",
   "execution_count": 167,
   "metadata": {},
   "outputs": [],
   "source": [
    "ms1['id'] = ms1.index"
   ]
  },
  {
   "cell_type": "code",
   "execution_count": 168,
   "metadata": {},
   "outputs": [],
   "source": [
    "q1 = \"\"\"SELECT PredictedSeg,COUNT(*) as count FROM ms1 GROUP BY PredictedSeg ORDER BY PredictedSeg \"\"\"\n",
    "test = sql.sqldf(q1, locals())"
   ]
  },
  {
   "cell_type": "code",
   "execution_count": 169,
   "metadata": {},
   "outputs": [
    {
     "name": "stdout",
     "output_type": "stream",
     "text": [
      "time             object\n",
      "lat             float64\n",
      "long            float64\n",
      "dir             float64\n",
      "velocity        float64\n",
      "T_outside       float64\n",
      "brightnessFW    float64\n",
      "brightnessIR    float64\n",
      "PredictedSeg      int64\n",
      "id                int64\n",
      "dtype: object\n"
     ]
    }
   ],
   "source": [
    "print(ms1.dtypes) # dataype"
   ]
  },
  {
   "cell_type": "code",
   "execution_count": 170,
   "metadata": {},
   "outputs": [],
   "source": [
    "tot_len = len(ms1.iloc[0]['time']) # TODO : need to generalise"
   ]
  },
  {
   "cell_type": "code",
   "execution_count": 171,
   "metadata": {},
   "outputs": [],
   "source": [
    "start, stop, step = 0, tot_len-2, 1\n",
    "ms1['time'] = ms1[\"time\"].str.slice(start, stop, step) "
   ]
  },
  {
   "cell_type": "code",
   "execution_count": 172,
   "metadata": {},
   "outputs": [],
   "source": [
    "ms1['time'] = ms1['time'].apply(lambda x: datetime.strptime(x, '%A, %B %d, %Y %H:%M:%S:%f'))"
   ]
  },
  {
   "cell_type": "code",
   "execution_count": 173,
   "metadata": {},
   "outputs": [
    {
     "name": "stdout",
     "output_type": "stream",
     "text": [
      "0.499997\n"
     ]
    }
   ],
   "source": [
    "######################################################## TODO : Need to automate this\n",
    "#ms1['Day'] = 'Wednesday'\n",
    "#ms1['Month'] = 'November'\n",
    "the_date1 = ms1.iloc[1]['time']\n",
    "the_date2 = ms1.iloc[2]['time']\n",
    "diff = the_date2 - the_date1\n",
    "print(diff.total_seconds())"
   ]
  },
  {
   "cell_type": "code",
   "execution_count": 175,
   "metadata": {},
   "outputs": [],
   "source": [
    "i=0\n",
    "mesured_order = 0;\n",
    "df = pd.DataFrame({'Start_Time': [], 'Duration': [], 'Duration': [], 'Predicted_Seg': []})\n",
    "while(i<len(ms1)):\n",
    "    predicted_seg = ms1.iloc[i]['PredictedSeg']\n",
    "    aggregate_velocity = 0\n",
    "    i = i+1\n",
    "    for j in range(i, len(ms1)):\n",
    "        if ms1.iloc[j]['PredictedSeg'] != predicted_seg:\n",
    "            previous_i = i\n",
    "            i=j\n",
    "        else:\n",
    "            time_diff = ms1.iloc[j]['time']-ms1.iloc[j-1]['time']\n",
    "            aggregate_velocity = aggregate_velocity + ms1.iloc[j-1]['velocity'] * time_diff.total_seconds()\n",
    "            continue\n",
    "        \n",
    "        duration = ms1.iloc[j]['time'] - ms1.iloc[previous_i]['time']\n",
    "        df = df.append({'mesured_order': mesured_order,\n",
    "                        'Start_Time': ms1.iloc[previous_i-1]['time'], \n",
    "                        'End_Time': ms1.iloc[j]['time'],\n",
    "                        'Duration': duration.total_seconds(), \n",
    "                        'Agg_Velocity': aggregate_velocity,\n",
    "                        'Predicted_Seg': predicted_seg},ignore_index=True)\n",
    "        \n",
    "        mesured_order = mesured_order + 1\n",
    "        break \n",
    "        \n",
    "    if j == len(ms1)-1:\n",
    "        break\n",
    "    \n",
    "        \n"
   ]
  },
  {
   "cell_type": "code",
   "execution_count": 176,
   "metadata": {},
   "outputs": [
    {
     "data": {
      "text/html": [
       "<div>\n",
       "<style scoped>\n",
       "    .dataframe tbody tr th:only-of-type {\n",
       "        vertical-align: middle;\n",
       "    }\n",
       "\n",
       "    .dataframe tbody tr th {\n",
       "        vertical-align: top;\n",
       "    }\n",
       "\n",
       "    .dataframe thead th {\n",
       "        text-align: right;\n",
       "    }\n",
       "</style>\n",
       "<table border=\"1\" class=\"dataframe\">\n",
       "  <thead>\n",
       "    <tr style=\"text-align: right;\">\n",
       "      <th></th>\n",
       "      <th>Start_Time</th>\n",
       "      <th>Duration</th>\n",
       "      <th>Predicted_Seg</th>\n",
       "      <th>Agg_Velocity</th>\n",
       "      <th>End_Time</th>\n",
       "      <th>mesured_order</th>\n",
       "    </tr>\n",
       "  </thead>\n",
       "  <tbody>\n",
       "    <tr>\n",
       "      <th>0</th>\n",
       "      <td>2017-11-01 16:17:31.835088</td>\n",
       "      <td>37.499988</td>\n",
       "      <td>6471.0</td>\n",
       "      <td>255.309701</td>\n",
       "      <td>2017-11-01 16:18:09.835083</td>\n",
       "      <td>0.0</td>\n",
       "    </tr>\n",
       "    <tr>\n",
       "      <th>1</th>\n",
       "      <td>2017-11-01 16:18:09.835083</td>\n",
       "      <td>2.499996</td>\n",
       "      <td>6542.0</td>\n",
       "      <td>76.239341</td>\n",
       "      <td>2017-11-01 16:18:12.835086</td>\n",
       "      <td>1.0</td>\n",
       "    </tr>\n",
       "    <tr>\n",
       "      <th>2</th>\n",
       "      <td>2017-11-01 16:18:12.835086</td>\n",
       "      <td>3.500001</td>\n",
       "      <td>6555.0</td>\n",
       "      <td>74.918134</td>\n",
       "      <td>2017-11-01 16:18:16.835085</td>\n",
       "      <td>2.0</td>\n",
       "    </tr>\n",
       "    <tr>\n",
       "      <th>3</th>\n",
       "      <td>2017-11-01 16:18:16.835085</td>\n",
       "      <td>3.500011</td>\n",
       "      <td>6606.0</td>\n",
       "      <td>57.275904</td>\n",
       "      <td>2017-11-01 16:18:20.835093</td>\n",
       "      <td>3.0</td>\n",
       "    </tr>\n",
       "    <tr>\n",
       "      <th>4</th>\n",
       "      <td>2017-11-01 16:18:20.835093</td>\n",
       "      <td>1.500002</td>\n",
       "      <td>6599.0</td>\n",
       "      <td>38.320467</td>\n",
       "      <td>2017-11-01 16:18:22.835093</td>\n",
       "      <td>4.0</td>\n",
       "    </tr>\n",
       "  </tbody>\n",
       "</table>\n",
       "</div>"
      ],
      "text/plain": [
       "                  Start_Time   Duration  Predicted_Seg  Agg_Velocity  \\\n",
       "0 2017-11-01 16:17:31.835088  37.499988         6471.0    255.309701   \n",
       "1 2017-11-01 16:18:09.835083   2.499996         6542.0     76.239341   \n",
       "2 2017-11-01 16:18:12.835086   3.500001         6555.0     74.918134   \n",
       "3 2017-11-01 16:18:16.835085   3.500011         6606.0     57.275904   \n",
       "4 2017-11-01 16:18:20.835093   1.500002         6599.0     38.320467   \n",
       "\n",
       "                    End_Time  mesured_order  \n",
       "0 2017-11-01 16:18:09.835083            0.0  \n",
       "1 2017-11-01 16:18:12.835086            1.0  \n",
       "2 2017-11-01 16:18:16.835085            2.0  \n",
       "3 2017-11-01 16:18:20.835093            3.0  \n",
       "4 2017-11-01 16:18:22.835093            4.0  "
      ]
     },
     "execution_count": 176,
     "metadata": {},
     "output_type": "execute_result"
    }
   ],
   "source": [
    "df.head(5)"
   ]
  },
  {
   "cell_type": "code",
   "execution_count": null,
   "metadata": {},
   "outputs": [],
   "source": []
  }
 ],
 "metadata": {
  "kernelspec": {
   "display_name": "Python 3",
   "language": "python",
   "name": "python3"
  },
  "language_info": {
   "codemirror_mode": {
    "name": "ipython",
    "version": 3
   },
   "file_extension": ".py",
   "mimetype": "text/x-python",
   "name": "python",
   "nbconvert_exporter": "python",
   "pygments_lexer": "ipython3",
   "version": "3.7.3"
  }
 },
 "nbformat": 4,
 "nbformat_minor": 2
}
