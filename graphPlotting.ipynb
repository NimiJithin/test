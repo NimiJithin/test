{
 "cells": [
  {
   "cell_type": "code",
   "execution_count": 3,
   "metadata": {},
   "outputs": [],
   "source": [
    "import numpy as np\n",
    "import matplotlib.pyplot as plt\n",
    "import pandas as pd \n",
    "import os\n",
    "import matplotlib.path as mpath\n",
    "from matplotlib.collections import LineCollection"
   ]
  },
  {
   "cell_type": "code",
   "execution_count": null,
   "metadata": {},
   "outputs": [],
   "source": [
    "df = pd.read_excel(\"C:/Users/NImi Jithin/Desktop/data/measurements/SegmentTable.xlsx\")\n",
    "\n",
    "\n",
    "strtlon, strtlat = df.Start_Longitude.values, df.Start_Latitude.values\n",
    "endlon, endlat = df.End_Longitude.values, df.End_Latitude.values\n",
    "pts = np.c_[strtlon, strtlat,endlon, endlat].reshape(len(strtlon), 2, 2)\n",
    "xtrapts = pts[:len(pts)-0]\n",
    "\n",
    "srcDirectory = 'C:/Users/NImi Jithin/Desktop/Studies/sem-3/research track/testPred/'\n",
    "destDirectory = 'C:/Users/NImi Jithin/Desktop/Studies/sem-3/research track/images/'\n",
    "\n",
    "for filename in os.listdir(srcDirectory):\n",
    "    measuresdf = pd.read_csv(srcDirectory+filename)\n",
    "    fig = plt.figure()\n",
    "    ax = fig.subplots()\n",
    "    plt.rcParams[\"figure.figsize\"] = (10,10)\n",
    "    coll = LineCollection(xtrapts, cmap=plt.cm.gist_ncar)\n",
    "    coll.set_array(np.random.random(xtrapts.shape[0]))\n",
    "    ax.add_collection(coll)\n",
    "    ax.autoscale_view()\n",
    "    #-----plot measurements ---------------------------------------------------------\n",
    "    xMeasurement, yMeasurement =  measuresdf.long.values, measuresdf.lat.values\n",
    "    ax.scatter(xMeasurement ,yMeasurement,s=1, color='r')\n",
    "    fig.savefig(destDirectory+filename+'.png',bbox_inches='tight')\n"
   ]
  }
 ],
 "metadata": {
  "kernelspec": {
   "display_name": "Python 3",
   "language": "python",
   "name": "python3"
  },
  "language_info": {
   "codemirror_mode": {
    "name": "ipython",
    "version": 3
   },
   "file_extension": ".py",
   "mimetype": "text/x-python",
   "name": "python",
   "nbconvert_exporter": "python",
   "pygments_lexer": "ipython3",
   "version": "3.7.3"
  }
 },
 "nbformat": 4,
 "nbformat_minor": 2
}
